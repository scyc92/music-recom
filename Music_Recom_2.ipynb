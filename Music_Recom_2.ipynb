{
 "cells": [
  {
   "cell_type": "markdown",
   "metadata": {},
   "source": [
    "## Part 2: Spark Streaming and Machine Learning for Real-Time Music Recommendation\n",
    "This part focuses on streaming the data and applying machine learning to generate recommendations:\n",
    "\n",
    "<li>Setting up Spark Streaming to process data in real time as it is received from Kafka.\n",
    "<li>Implementing the machine learning models to make music recommendations based on user preferences and music features.\n",
    "<li>Fine-tuning and deploying the recommendation system.</li>\n",
    "<br>\n",
    "By splitting the project this way, it allows the user to focus first on data ingestion and preprocessing (Part 1), and then on real-time streaming and machine learning tasks (Part 2). \n",
    "<br>\n",
    "This division ensures a structured and logical progression from data handling to actionable insights."
   ]
  },
  {
   "cell_type": "code",
   "execution_count": null,
   "metadata": {},
   "outputs": [],
   "source": [
    "!pip3.9 install pyspark"
   ]
  },
  {
   "cell_type": "code",
   "execution_count": 1,
   "metadata": {},
   "outputs": [],
   "source": [
    "# Imports\n",
    "import os\n",
    "os.environ[\"PYSPARK_PYTHON\"]=\"/opt/homebrew/opt/python@3.9/bin/python3.9\"\n",
    "os.environ[\"PYSPARK_DRIVER_PYTHON\"]=\"/opt/homebrew/opt/python@3.9/bin/python3.9\"\n",
    "import time\n",
    "import random\n",
    "import pyspark\n",
    "from pyspark.sql import SparkSession\n",
    "from pyspark.sql.functions import *\n",
    "from pyspark.ml.feature import Normalizer, StandardScaler"
   ]
  },
  {
   "cell_type": "code",
   "execution_count": 2,
   "metadata": {},
   "outputs": [],
   "source": [
    "# Kafka server address\n",
    "SERVER = 'localhost:9092'"
   ]
  },
  {
   "cell_type": "code",
   "execution_count": 3,
   "metadata": {},
   "outputs": [],
   "source": [
    "# Kafka topic name\n",
    "TOPIC = \"music-recommendation\""
   ]
  },
  {
   "cell_type": "code",
   "execution_count": 4,
   "metadata": {},
   "outputs": [],
   "source": [
    "# Conectores do Spark para o Apache Kafka\n",
    "spark_jars =  (\"{},{},{},{},{}\".format(os.getcwd() + \"/jars/spark-sql-kafka-0-10_2.12-3.2.1.jar\",  \n",
    "                                       os.getcwd() + \"/jars/kafka-clients-2.7.0.jar\", \n",
    "                                       os.getcwd() + \"/jars/spark-streaming-kafka-0-10-assembly_2.12-3.3.2.jar\", \n",
    "                                       os.getcwd() + \"/jars/commons-pool2-2.8.0.jar\",  \n",
    "                                       os.getcwd() + \"/jars/spark-token-provider-kafka-0-10_2.12-3.1.2.jar\"))"
   ]
  },
  {
   "cell_type": "code",
   "execution_count": 5,
   "metadata": {},
   "outputs": [
    {
     "name": "stderr",
     "output_type": "stream",
     "text": [
      "24/09/18 01:20:51 WARN Utils: Your hostname, Samuels-MacBook-Air.local resolves to a loopback address: 127.0.0.1; using 192.168.1.113 instead (on interface en0)\n",
      "24/09/18 01:20:51 WARN Utils: Set SPARK_LOCAL_IP if you need to bind to another address\n",
      "24/09/18 01:20:51 WARN NativeCodeLoader: Unable to load native-hadoop library for your platform... using builtin-java classes where applicable\n",
      "Setting default log level to \"WARN\".\n",
      "To adjust logging level use sc.setLogLevel(newLevel). For SparkR, use setLogLevel(newLevel).\n"
     ]
    }
   ],
   "source": [
    "# Initialize Spark session\n",
    "spark = SparkSession \\\n",
    "        .builder \\\n",
    "        .config(\"spark.jars\", spark_jars) \\\n",
    "        .appName(\"Music_Recommendation\") \\\n",
    "        .getOrCreate()\n"
   ]
  },
  {
   "cell_type": "code",
   "execution_count": 6,
   "metadata": {},
   "outputs": [],
   "source": [
    "spark.sparkContext.setLogLevel(\"ERROR\")"
   ]
  },
  {
   "cell_type": "code",
   "execution_count": 7,
   "metadata": {},
   "outputs": [],
   "source": [
    "# Using Spark Streaming to read the Kafka data stream and save it in a dataframe\n",
    "df = spark \\\n",
    "        .readStream \\\n",
    "        .format(\"kafka\") \\\n",
    "        .option(\"kafka.bootstrap.servers\", SERVER) \\\n",
    "        .option(\"subscribe\", TOPIC) \\\n",
    "        .option(\"startingOffsets\", \"latest\") \\\n",
    "        .load()"
   ]
  },
  {
   "cell_type": "code",
   "execution_count": 8,
   "metadata": {},
   "outputs": [],
   "source": [
    "# Select the timestamp column as a string and save it to a new dataframe\n",
    "df1 = df.selectExpr(\"CAST(value AS STRING)\", \"timestamp\") "
   ]
  },
  {
   "cell_type": "code",
   "execution_count": 9,
   "metadata": {},
   "outputs": [],
   "source": [
    "# Define the schema with the name and type of each column\n",
    "def_schema = \"order_id INT, id STRING, name STRING, popularity INT, duration_ms DOUBLE, \" \\\n",
    "             + \"artists STRING, id_artists STRING, release_date STRING, \" \\\n",
    "             + \"danceability DOUBLE,energy DOUBLE, key INT, loudness DOUBLE, \" \\\n",
    "             + \"mode INT,speechiness DOUBLE,\" \\\n",
    "             + \"acousticness DOUBLE, instrumentalness DOUBLE, liveness DOUBLE, \" \\\n",
    "             + \"valence DOUBLE, tempo DOUBLE, time_signature DOUBLE\""
   ]
  },
  {
   "cell_type": "code",
   "execution_count": 10,
   "metadata": {},
   "outputs": [],
   "source": [
    "# Select the data stream according to the schema and save it in a new dataframe\n",
    "df2 = df1.select(from_csv(col(\"value\"), def_schema).alias(\"song\"), \"timestamp\")"
   ]
  },
  {
   "cell_type": "code",
   "execution_count": 11,
   "metadata": {},
   "outputs": [
    {
     "name": "stdout",
     "output_type": "stream",
     "text": [
      "root\n",
      " |-- order_id: integer (nullable = true)\n",
      " |-- id: string (nullable = true)\n",
      " |-- name: string (nullable = true)\n",
      " |-- popularity: integer (nullable = true)\n",
      " |-- duration_ms: double (nullable = true)\n",
      " |-- artists: string (nullable = true)\n",
      " |-- id_artists: string (nullable = true)\n",
      " |-- release_date: string (nullable = true)\n",
      " |-- danceability: double (nullable = true)\n",
      " |-- energy: double (nullable = true)\n",
      " |-- key: integer (nullable = true)\n",
      " |-- loudness: double (nullable = true)\n",
      " |-- mode: integer (nullable = true)\n",
      " |-- speechiness: double (nullable = true)\n",
      " |-- acousticness: double (nullable = true)\n",
      " |-- instrumentalness: double (nullable = true)\n",
      " |-- liveness: double (nullable = true)\n",
      " |-- valence: double (nullable = true)\n",
      " |-- tempo: double (nullable = true)\n",
      " |-- time_signature: double (nullable = true)\n",
      " |-- timestamp: timestamp (nullable = true)\n",
      "\n"
     ]
    }
   ],
   "source": [
    "# Create an in-memory view in Spark and visualize the schema\n",
    "df3 = df2.select(\"song.*\", \"timestamp\")  \n",
    "df3.createOrReplaceTempView(\"df3_View\");\n",
    "df3.printSchema()"
   ]
  },
  {
   "cell_type": "code",
   "execution_count": 12,
   "metadata": {},
   "outputs": [],
   "source": [
    "# Select the data with the songs from the stream\n",
    "music_stream = spark.sql(\"SELECT * FROM df3_View\")"
   ]
  },
  {
   "cell_type": "code",
   "execution_count": 13,
   "metadata": {},
   "outputs": [],
   "source": [
    "# We cannot visualize yet, as we need to generate the Spark Streaming stream\n",
    "# music_stream.show()"
   ]
  },
  {
   "cell_type": "code",
   "execution_count": 14,
   "metadata": {},
   "outputs": [
    {
     "data": {
      "text/plain": [
       "False"
      ]
     },
     "execution_count": 14,
     "metadata": {},
     "output_type": "execute_result"
    }
   ],
   "source": [
    "# Create the data stream in Spark Streaming\n",
    "music_stream_spark = music_stream \\\n",
    "        .writeStream \\\n",
    "        .trigger(processingTime = '5 seconds') \\\n",
    "        .outputMode(\"append\") \\\n",
    "        .option(\"truncate\", \"false\") \\\n",
    "        .format(\"memory\") \\\n",
    "        .queryName(\"table_spark\") \\\n",
    "        .start()\n",
    "\n",
    "# Start the Spark Streaming stream\n",
    "music_stream_spark.awaitTermination(1)"
   ]
  },
  {
   "cell_type": "code",
   "execution_count": 15,
   "metadata": {},
   "outputs": [
    {
     "name": "stderr",
     "output_type": "stream",
     "text": [
      "                                                                                \r"
     ]
    }
   ],
   "source": [
    "# \"Select the songs from the Spark stream table.\"\n",
    "\n",
    "spark_songs = spark.sql(\"SELECT * FROM table_spark\")"
   ]
  },
  {
   "cell_type": "code",
   "execution_count": 17,
   "metadata": {},
   "outputs": [
    {
     "name": "stdout",
     "output_type": "stream",
     "text": [
      "+--------+--------------------+------------+----------+-----------+------------+--------------------+------------+------------+------+---+--------+----+-----------+------------+----------------+--------+-------+-------+--------------+--------------------+\n",
      "|order_id|                  id|        name|popularity|duration_ms|     artists|          id_artists|release_date|danceability|energy|key|loudness|mode|speechiness|acousticness|instrumentalness|liveness|valence|  tempo|time_signature|           timestamp|\n",
      "+--------+--------------------+------------+----------+-----------+------------+--------------------+------------+------------+------+---+--------+----+-----------+------------+----------------+--------+-------+-------+--------------+--------------------+\n",
      "|    3047|4efr1TvCzFIRxBdjy...|Son of a Gun|         1|   238946.0|Summer Flake|2oPPuIRXZ5gCKBtbt...|  2016-04-08|       0.301| 0.674|  1|  -8.784|   0|     0.0341|     0.00711|           0.799|  0.0981|  0.361|115.776|           4.0|2024-09-18 01:21:...|\n",
      "|    3048|0ATr1Z7lOjpY6kDiN...|     Jizzney|         0|   196480.0| A Giant Dog|0PL9vFj7i7uKg74Wp...|  2016-04-05|       0.419| 0.941|  9|  -5.686|   1|     0.0699|     1.19E-4|         1.58E-5|   0.122|  0.602|125.416|           4.0|2024-09-18 01:21:...|\n",
      "|    3049|30lDfg1I6ytj9LUz2...|   Chow Chow|         0|   122206.0|        Faye|4CchTOTnYs0THdrAq...|  2016-04-08|       0.444| 0.941|  4|  -5.015|   1|     0.0533|      0.0411|          0.0818|   0.103|  0.521|119.009|           4.0|2024-09-18 01:21:...|\n",
      "|    3050|2k7MQPXJxVwgFksCo...|       Bloom|        27|   243072.0|       Denny|3UMlYIStRQWK4F4oh...|  2016-04-01|        0.46| 0.595|  0|  -9.211|   0|     0.0504|     5.88E-4|         3.25E-4|   0.189|  0.541|154.041|           4.0|2024-09-18 01:21:...|\n",
      "|    3051|7BSROePF8jz3tVHba...|All Day Long|         0|   215386.0|   KAPPEKOFF|5ka9pTngQTNPr4oWt...|  2016-04-01|       0.651| 0.902|  5|  -6.379|   0|     0.0571|       0.132|         7.68E-4|   0.198|  0.556|112.399|           4.0|2024-09-18 01:21:...|\n",
      "+--------+--------------------+------------+----------+-----------+------------+--------------------+------------+------------+------+---+--------+----+-----------+------------+----------------+--------+-------+-------+--------------+--------------------+\n",
      "only showing top 5 rows\n",
      "\n"
     ]
    }
   ],
   "source": [
    "# Now we can visualize the real-time stream as a Spark table\n",
    "spark_songs.show(5)"
   ]
  },
  {
   "cell_type": "code",
   "execution_count": 18,
   "metadata": {},
   "outputs": [
    {
     "name": "stdout",
     "output_type": "stream",
     "text": [
      "+--------+--------------------+------------+----------+-----------+------------+\n",
      "|order_id|                  id|        name|popularity|duration_ms|     artists|\n",
      "+--------+--------------------+------------+----------+-----------+------------+\n",
      "|    3047|4efr1TvCzFIRxBdjy...|Son of a Gun|         1|   238946.0|Summer Flake|\n",
      "|    3048|0ATr1Z7lOjpY6kDiN...|     Jizzney|         0|   196480.0| A Giant Dog|\n",
      "|    3049|30lDfg1I6ytj9LUz2...|   Chow Chow|         0|   122206.0|        Faye|\n",
      "|    3050|2k7MQPXJxVwgFksCo...|       Bloom|        27|   243072.0|       Denny|\n",
      "|    3051|7BSROePF8jz3tVHba...|All Day Long|         0|   215386.0|   KAPPEKOFF|\n",
      "+--------+--------------------+------------+----------+-----------+------------+\n",
      "only showing top 5 rows\n",
      "\n"
     ]
    }
   ],
   "source": [
    "# Visualize only a few columns\n",
    "spark_songs.select('order_id', 'id', 'name', 'popularity', 'duration_ms', 'artists').show(5)"
   ]
  },
  {
   "cell_type": "code",
   "execution_count": 20,
   "metadata": {},
   "outputs": [
    {
     "data": {
      "text/plain": [
       "36"
      ]
     },
     "execution_count": 20,
     "metadata": {},
     "output_type": "execute_result"
    }
   ],
   "source": [
    "# Count the number of songs extracted in real-time\n",
    "spark_songs.count()"
   ]
  },
  {
   "cell_type": "markdown",
   "metadata": {},
   "source": [
    "Wait a few minutes before proceeding with execution to allow the data stream to be collected."
   ]
  },
  {
   "cell_type": "markdown",
   "metadata": {},
   "source": [
    "## Proceed with extracting data from Spotify.\n",
    "\n"
   ]
  },
  {
   "cell_type": "code",
   "execution_count": 21,
   "metadata": {},
   "outputs": [
    {
     "name": "stdout",
     "output_type": "stream",
     "text": [
      "\u001b[33mDEPRECATION: Configuring installation scheme with distutils config files is deprecated and will no longer work in the near future. If you are using a Homebrew or Linuxbrew Python, please see discussion at https://github.com/Homebrew/homebrew-core/issues/76621\u001b[0m\u001b[33m\n",
      "\u001b[0m\u001b[33mDEPRECATION: Configuring installation scheme with distutils config files is deprecated and will no longer work in the near future. If you are using a Homebrew or Linuxbrew Python, please see discussion at https://github.com/Homebrew/homebrew-core/issues/76621\u001b[0m\u001b[33m\n",
      "\u001b[0m"
     ]
    }
   ],
   "source": [
    "# Install the Spotipy library for accessing the Spotify API\n",
    "# https://pypi.org/project/spotipy/\n",
    "!pip3.9 install -q spotipy ujson seaborn tqdm"
   ]
  },
  {
   "cell_type": "code",
   "execution_count": 22,
   "metadata": {},
   "outputs": [],
   "source": [
    "# Imports\n",
    "import os\n",
    "\n",
    "import ujson\n",
    "import spotipy\n",
    "import spotipy.util\n",
    "from pyspark.ml.feature import VectorAssembler\n",
    "from pyspark.ml.feature import StandardScaler\n",
    "from pyspark.ml.clustering import KMeans\n",
    "from pyspark.ml.evaluation import ClusteringEvaluator\n",
    "import numpy as np\n",
    "import pandas as pd\n",
    "import matplotlib.pyplot as plt\n",
    "import seaborn as sns\n",
    "from tqdm import tqdm\n",
    "import warnings\n",
    "warnings.filterwarnings(\"ignore\")"
   ]
  },
  {
   "cell_type": "code",
   "execution_count": 23,
   "metadata": {},
   "outputs": [],
   "source": [
    "# Here you input your Spotify API keys\n",
    "os.environ[\"SPOTIPY_CLIENT_ID\"] = 'your_client_id_here' ## your_client_id_here\n",
    "os.environ[\"SPOTIPY_CLIENT_SECRET\"] = 'your_client_secret_here' ## your_client_secret_here\n",
    "os.environ[\"SPOTIPY_REDIRECT_URI\"] = 'http://localhost:7777/callback'"
   ]
  },
  {
   "cell_type": "markdown",
   "metadata": {},
   "source": [
    "https://developer.spotify.com/documentation/general/guides/authorization/scopes/"
   ]
  },
  {
   "cell_type": "code",
   "execution_count": 24,
   "metadata": {},
   "outputs": [],
   "source": [
    "# Scope for extracting the user's library preferences\n",
    "scope = 'user-library-read'"
   ]
  },
  {
   "cell_type": "code",
   "execution_count": 25,
   "metadata": {},
   "outputs": [],
   "source": [
    "# Spotify username\n",
    "username = 'your_spotify_email_here' ## your_spotify_email_here"
   ]
  },
  {
   "cell_type": "code",
   "execution_count": 26,
   "metadata": {},
   "outputs": [],
   "source": [
    "# Create the access token\n",
    "token = spotipy.util.prompt_for_user_token(username, scope)"
   ]
  },
  {
   "cell_type": "code",
   "execution_count": 27,
   "metadata": {},
   "outputs": [],
   "source": [
    "# Create the authentication object\n",
    "spotipy_obj = spotipy.Spotify(auth = token)"
   ]
  },
  {
   "cell_type": "code",
   "execution_count": 28,
   "metadata": {},
   "outputs": [],
   "source": [
    "# Extract up to 50 songs from the user's favorite tracks\n",
    "saved_tracks = spotipy_obj.current_user_saved_tracks(limit = 50) "
   ]
  },
  {
   "cell_type": "code",
   "execution_count": 29,
   "metadata": {},
   "outputs": [
    {
     "name": "stdout",
     "output_type": "stream",
     "text": [
      "Total de Tracks: 36 \n"
     ]
    }
   ],
   "source": [
    "# Number of tracks extracted\n",
    "n_tracks = saved_tracks['total']\n",
    "print('Total de Tracks: %d ' % n_tracks)"
   ]
  },
  {
   "cell_type": "code",
   "execution_count": 30,
   "metadata": {},
   "outputs": [],
   "source": [
    "# Function to extract attributes from the user's track list\n",
    "def select_features(track_response):\n",
    "    return {        \n",
    "        'id': str(track_response['track']['id']),\n",
    "        'name': str(track_response['track']['name']),\n",
    "        'artists': [artist['name'] for artist in track_response['track']['artists']],\n",
    "        'popularity': track_response['track']['popularity']\n",
    "    }"
   ]
  },
  {
   "cell_type": "code",
   "execution_count": 31,
   "metadata": {},
   "outputs": [],
   "source": [
    "# Apply the function\n",
    "tracks = [select_features(track) for track in saved_tracks['items']]"
   ]
  },
  {
   "cell_type": "code",
   "execution_count": 32,
   "metadata": {},
   "outputs": [],
   "source": [
    "# Function to extract attributes from the user's track list\n",
    "while saved_tracks['next']:\n",
    "    saved_tracks = spotipy_obj.next(saved_tracks)\n",
    "    tracks.extend([select_features(track) for track in saved_tracks['items']])"
   ]
  },
  {
   "cell_type": "code",
   "execution_count": 33,
   "metadata": {},
   "outputs": [],
   "source": [
    "# Create a pandas dataframe\n",
    "df_tracks = pd.DataFrame(tracks)\n",
    "pd.set_option('display.max_rows', len(tracks))\n",
    "df_tracks['artists'] = df_tracks['artists'].apply(lambda artists: artists[0])"
   ]
  },
  {
   "cell_type": "code",
   "execution_count": 34,
   "metadata": {},
   "outputs": [
    {
     "data": {
      "text/html": [
       "<div>\n",
       "<style scoped>\n",
       "    .dataframe tbody tr th:only-of-type {\n",
       "        vertical-align: middle;\n",
       "    }\n",
       "\n",
       "    .dataframe tbody tr th {\n",
       "        vertical-align: top;\n",
       "    }\n",
       "\n",
       "    .dataframe thead th {\n",
       "        text-align: right;\n",
       "    }\n",
       "</style>\n",
       "<table border=\"1\" class=\"dataframe\">\n",
       "  <thead>\n",
       "    <tr style=\"text-align: right;\">\n",
       "      <th></th>\n",
       "      <th>id</th>\n",
       "      <th>name</th>\n",
       "      <th>artists</th>\n",
       "      <th>popularity</th>\n",
       "    </tr>\n",
       "  </thead>\n",
       "  <tbody>\n",
       "    <tr>\n",
       "      <th>0</th>\n",
       "      <td>31ZctoTXcPE0uqcsXfZdgI</td>\n",
       "      <td>Headphones</td>\n",
       "      <td>Christian McKinney</td>\n",
       "      <td>17</td>\n",
       "    </tr>\n",
       "    <tr>\n",
       "      <th>1</th>\n",
       "      <td>3QzPVAv3U2BoQVWcOInhFZ</td>\n",
       "      <td>You Found Me</td>\n",
       "      <td>Christian McKinney</td>\n",
       "      <td>24</td>\n",
       "    </tr>\n",
       "    <tr>\n",
       "      <th>2</th>\n",
       "      <td>79uxhWGPK9WnWf1Mcpq516</td>\n",
       "      <td>Elevate</td>\n",
       "      <td>10 Talents</td>\n",
       "      <td>24</td>\n",
       "    </tr>\n",
       "    <tr>\n",
       "      <th>3</th>\n",
       "      <td>3JNUHClcruc1O419mggHx4</td>\n",
       "      <td>Break Free</td>\n",
       "      <td>Coastside</td>\n",
       "      <td>17</td>\n",
       "    </tr>\n",
       "    <tr>\n",
       "      <th>4</th>\n",
       "      <td>6oOi6coHSGhCEkqwrdy224</td>\n",
       "      <td>I Know That's Right</td>\n",
       "      <td>Jimmy Dooley</td>\n",
       "      <td>41</td>\n",
       "    </tr>\n",
       "    <tr>\n",
       "      <th>5</th>\n",
       "      <td>4e8lXxOrEBJfvyx2zoZ0K3</td>\n",
       "      <td>Drive</td>\n",
       "      <td>NONAH</td>\n",
       "      <td>30</td>\n",
       "    </tr>\n",
       "    <tr>\n",
       "      <th>6</th>\n",
       "      <td>3ZEno9fORwMA1HPecdLi0R</td>\n",
       "      <td>HAPPY</td>\n",
       "      <td>NF</td>\n",
       "      <td>72</td>\n",
       "    </tr>\n",
       "    <tr>\n",
       "      <th>7</th>\n",
       "      <td>2f4nKv7hzbd9vWUaqJ4idM</td>\n",
       "      <td>Outside</td>\n",
       "      <td>Marc Vanparla</td>\n",
       "      <td>38</td>\n",
       "    </tr>\n",
       "    <tr>\n",
       "      <th>8</th>\n",
       "      <td>3TyXxUT1D3EiATkn4g5vJ6</td>\n",
       "      <td>Deeper Waters</td>\n",
       "      <td>Jeremy Camp</td>\n",
       "      <td>46</td>\n",
       "    </tr>\n",
       "    <tr>\n",
       "      <th>9</th>\n",
       "      <td>1JR7uAiV3UrpNwUDycbpAR</td>\n",
       "      <td>sun and skies</td>\n",
       "      <td>alli ward</td>\n",
       "      <td>29</td>\n",
       "    </tr>\n",
       "  </tbody>\n",
       "</table>\n",
       "</div>"
      ],
      "text/plain": [
       "                       id                 name             artists  popularity\n",
       "0  31ZctoTXcPE0uqcsXfZdgI           Headphones  Christian McKinney          17\n",
       "1  3QzPVAv3U2BoQVWcOInhFZ         You Found Me  Christian McKinney          24\n",
       "2  79uxhWGPK9WnWf1Mcpq516              Elevate          10 Talents          24\n",
       "3  3JNUHClcruc1O419mggHx4           Break Free           Coastside          17\n",
       "4  6oOi6coHSGhCEkqwrdy224  I Know That's Right        Jimmy Dooley          41\n",
       "5  4e8lXxOrEBJfvyx2zoZ0K3                Drive               NONAH          30\n",
       "6  3ZEno9fORwMA1HPecdLi0R                HAPPY                  NF          72\n",
       "7  2f4nKv7hzbd9vWUaqJ4idM              Outside       Marc Vanparla          38\n",
       "8  3TyXxUT1D3EiATkn4g5vJ6        Deeper Waters         Jeremy Camp          46\n",
       "9  1JR7uAiV3UrpNwUDycbpAR        sun and skies           alli ward          29"
      ]
     },
     "execution_count": 34,
     "metadata": {},
     "output_type": "execute_result"
    }
   ],
   "source": [
    "# Display the first 10 rows\n",
    "df_tracks.head(10)"
   ]
  },
  {
   "cell_type": "code",
   "execution_count": 35,
   "metadata": {},
   "outputs": [],
   "source": [
    "# Dictionary for audio attributes\n",
    "audio_features = {}"
   ]
  },
  {
   "cell_type": "code",
   "execution_count": 36,
   "metadata": {},
   "outputs": [],
   "source": [
    "# Extract the audio attributes\n",
    "for idd in df_tracks['id'].tolist():\n",
    "    audio_features[idd] = spotipy_obj.audio_features(idd)[0]"
   ]
  },
  {
   "cell_type": "code",
   "execution_count": 37,
   "metadata": {},
   "outputs": [],
   "source": [
    "# Add the audio attributes to the dataframe\n",
    "df_tracks['acousticness'] = df_tracks['id'].apply(lambda idd: audio_features[idd]['acousticness'])\n",
    "df_tracks['speechiness'] = df_tracks['id'].apply(lambda idd: audio_features[idd]['speechiness'])\n",
    "df_tracks['key'] = df_tracks['id'].apply(lambda idd: str(audio_features[idd]['key']))\n",
    "df_tracks['liveness'] = df_tracks['id'].apply(lambda idd: audio_features[idd]['liveness'])\n",
    "df_tracks['instrumentalness'] = df_tracks['id'].apply(lambda idd: audio_features[idd]['instrumentalness'])\n",
    "df_tracks['energy'] = df_tracks['id'].apply(lambda idd: audio_features[idd]['energy'])\n",
    "df_tracks['tempo'] = df_tracks['id'].apply(lambda idd: audio_features[idd]['tempo'])\n",
    "df_tracks['loudness'] = df_tracks['id'].apply(lambda idd: audio_features[idd]['loudness'])\n",
    "df_tracks['danceability'] = df_tracks['id'].apply(lambda idd: audio_features[idd]['danceability'])\n",
    "df_tracks['valence'] = df_tracks['id'].apply(lambda idd: audio_features[idd]['valence'])"
   ]
  },
  {
   "cell_type": "code",
   "execution_count": 38,
   "metadata": {},
   "outputs": [
    {
     "data": {
      "text/html": [
       "<div>\n",
       "<style scoped>\n",
       "    .dataframe tbody tr th:only-of-type {\n",
       "        vertical-align: middle;\n",
       "    }\n",
       "\n",
       "    .dataframe tbody tr th {\n",
       "        vertical-align: top;\n",
       "    }\n",
       "\n",
       "    .dataframe thead th {\n",
       "        text-align: right;\n",
       "    }\n",
       "</style>\n",
       "<table border=\"1\" class=\"dataframe\">\n",
       "  <thead>\n",
       "    <tr style=\"text-align: right;\">\n",
       "      <th></th>\n",
       "      <th>id</th>\n",
       "      <th>name</th>\n",
       "      <th>artists</th>\n",
       "      <th>popularity</th>\n",
       "      <th>acousticness</th>\n",
       "      <th>speechiness</th>\n",
       "      <th>key</th>\n",
       "      <th>liveness</th>\n",
       "      <th>instrumentalness</th>\n",
       "      <th>energy</th>\n",
       "      <th>tempo</th>\n",
       "      <th>loudness</th>\n",
       "      <th>danceability</th>\n",
       "      <th>valence</th>\n",
       "    </tr>\n",
       "  </thead>\n",
       "  <tbody>\n",
       "    <tr>\n",
       "      <th>0</th>\n",
       "      <td>31ZctoTXcPE0uqcsXfZdgI</td>\n",
       "      <td>Headphones</td>\n",
       "      <td>Christian McKinney</td>\n",
       "      <td>17</td>\n",
       "      <td>0.424</td>\n",
       "      <td>0.0655</td>\n",
       "      <td>8</td>\n",
       "      <td>0.0955</td>\n",
       "      <td>0.00000</td>\n",
       "      <td>0.611</td>\n",
       "      <td>149.920</td>\n",
       "      <td>-9.793</td>\n",
       "      <td>0.616</td>\n",
       "      <td>0.708</td>\n",
       "    </tr>\n",
       "    <tr>\n",
       "      <th>1</th>\n",
       "      <td>3QzPVAv3U2BoQVWcOInhFZ</td>\n",
       "      <td>You Found Me</td>\n",
       "      <td>Christian McKinney</td>\n",
       "      <td>24</td>\n",
       "      <td>0.661</td>\n",
       "      <td>0.0374</td>\n",
       "      <td>5</td>\n",
       "      <td>0.1210</td>\n",
       "      <td>0.00211</td>\n",
       "      <td>0.632</td>\n",
       "      <td>143.983</td>\n",
       "      <td>-6.489</td>\n",
       "      <td>0.737</td>\n",
       "      <td>0.341</td>\n",
       "    </tr>\n",
       "    <tr>\n",
       "      <th>2</th>\n",
       "      <td>79uxhWGPK9WnWf1Mcpq516</td>\n",
       "      <td>Elevate</td>\n",
       "      <td>10 Talents</td>\n",
       "      <td>24</td>\n",
       "      <td>0.012</td>\n",
       "      <td>0.1550</td>\n",
       "      <td>11</td>\n",
       "      <td>0.0662</td>\n",
       "      <td>0.00005</td>\n",
       "      <td>0.746</td>\n",
       "      <td>173.938</td>\n",
       "      <td>-6.155</td>\n",
       "      <td>0.663</td>\n",
       "      <td>0.677</td>\n",
       "    </tr>\n",
       "    <tr>\n",
       "      <th>3</th>\n",
       "      <td>3JNUHClcruc1O419mggHx4</td>\n",
       "      <td>Break Free</td>\n",
       "      <td>Coastside</td>\n",
       "      <td>17</td>\n",
       "      <td>0.215</td>\n",
       "      <td>0.3320</td>\n",
       "      <td>4</td>\n",
       "      <td>0.1130</td>\n",
       "      <td>0.00000</td>\n",
       "      <td>0.738</td>\n",
       "      <td>155.080</td>\n",
       "      <td>-8.464</td>\n",
       "      <td>0.672</td>\n",
       "      <td>0.338</td>\n",
       "    </tr>\n",
       "    <tr>\n",
       "      <th>4</th>\n",
       "      <td>6oOi6coHSGhCEkqwrdy224</td>\n",
       "      <td>I Know That's Right</td>\n",
       "      <td>Jimmy Dooley</td>\n",
       "      <td>41</td>\n",
       "      <td>0.119</td>\n",
       "      <td>0.2110</td>\n",
       "      <td>6</td>\n",
       "      <td>0.0921</td>\n",
       "      <td>0.00000</td>\n",
       "      <td>0.592</td>\n",
       "      <td>113.055</td>\n",
       "      <td>-10.631</td>\n",
       "      <td>0.747</td>\n",
       "      <td>0.796</td>\n",
       "    </tr>\n",
       "  </tbody>\n",
       "</table>\n",
       "</div>"
      ],
      "text/plain": [
       "                       id                 name             artists  \\\n",
       "0  31ZctoTXcPE0uqcsXfZdgI           Headphones  Christian McKinney   \n",
       "1  3QzPVAv3U2BoQVWcOInhFZ         You Found Me  Christian McKinney   \n",
       "2  79uxhWGPK9WnWf1Mcpq516              Elevate          10 Talents   \n",
       "3  3JNUHClcruc1O419mggHx4           Break Free           Coastside   \n",
       "4  6oOi6coHSGhCEkqwrdy224  I Know That's Right        Jimmy Dooley   \n",
       "\n",
       "   popularity  acousticness  speechiness key  liveness  instrumentalness  \\\n",
       "0          17         0.424       0.0655   8    0.0955           0.00000   \n",
       "1          24         0.661       0.0374   5    0.1210           0.00211   \n",
       "2          24         0.012       0.1550  11    0.0662           0.00005   \n",
       "3          17         0.215       0.3320   4    0.1130           0.00000   \n",
       "4          41         0.119       0.2110   6    0.0921           0.00000   \n",
       "\n",
       "   energy    tempo  loudness  danceability  valence  \n",
       "0   0.611  149.920    -9.793         0.616    0.708  \n",
       "1   0.632  143.983    -6.489         0.737    0.341  \n",
       "2   0.746  173.938    -6.155         0.663    0.677  \n",
       "3   0.738  155.080    -8.464         0.672    0.338  \n",
       "4   0.592  113.055   -10.631         0.747    0.796  "
      ]
     },
     "execution_count": 38,
     "metadata": {},
     "output_type": "execute_result"
    }
   ],
   "source": [
    "df_tracks.head()"
   ]
  },
  {
   "cell_type": "code",
   "execution_count": 39,
   "metadata": {},
   "outputs": [
    {
     "data": {
      "text/html": [
       "<div>\n",
       "<style scoped>\n",
       "    .dataframe tbody tr th:only-of-type {\n",
       "        vertical-align: middle;\n",
       "    }\n",
       "\n",
       "    .dataframe tbody tr th {\n",
       "        vertical-align: top;\n",
       "    }\n",
       "\n",
       "    .dataframe thead th {\n",
       "        text-align: right;\n",
       "    }\n",
       "</style>\n",
       "<table border=\"1\" class=\"dataframe\">\n",
       "  <thead>\n",
       "    <tr style=\"text-align: right;\">\n",
       "      <th></th>\n",
       "      <th>id</th>\n",
       "      <th>name</th>\n",
       "      <th>artists</th>\n",
       "      <th>popularity</th>\n",
       "      <th>acousticness</th>\n",
       "      <th>speechiness</th>\n",
       "      <th>key</th>\n",
       "      <th>liveness</th>\n",
       "      <th>instrumentalness</th>\n",
       "      <th>energy</th>\n",
       "      <th>tempo</th>\n",
       "      <th>loudness</th>\n",
       "      <th>danceability</th>\n",
       "      <th>valence</th>\n",
       "    </tr>\n",
       "  </thead>\n",
       "  <tbody>\n",
       "    <tr>\n",
       "      <th>26</th>\n",
       "      <td>5F7IJrXD6Fa3EmqoYE0gU4</td>\n",
       "      <td>Say Goodbye</td>\n",
       "      <td>Chris Brown</td>\n",
       "      <td>69</td>\n",
       "      <td>0.00167</td>\n",
       "      <td>0.0371</td>\n",
       "      <td>1</td>\n",
       "      <td>0.0784</td>\n",
       "      <td>0.0</td>\n",
       "      <td>0.502</td>\n",
       "      <td>115.091</td>\n",
       "      <td>-6.062</td>\n",
       "      <td>0.8</td>\n",
       "      <td>0.388</td>\n",
       "    </tr>\n",
       "  </tbody>\n",
       "</table>\n",
       "</div>"
      ],
      "text/plain": [
       "                        id         name      artists  popularity  \\\n",
       "26  5F7IJrXD6Fa3EmqoYE0gU4  Say Goodbye  Chris Brown          69   \n",
       "\n",
       "    acousticness  speechiness key  liveness  instrumentalness  energy  \\\n",
       "26       0.00167       0.0371   1    0.0784               0.0   0.502   \n",
       "\n",
       "      tempo  loudness  danceability  valence  \n",
       "26  115.091    -6.062           0.8    0.388  "
      ]
     },
     "execution_count": 39,
     "metadata": {},
     "output_type": "execute_result"
    }
   ],
   "source": [
    "# Randomly selected a song.\n",
    "\n",
    "random_music = random. randint(0,len(df_tracks)-1)\n",
    "df_random = df_tracks.head(random_music)[-1:]\n",
    "df_random"
   ]
  },
  {
   "cell_type": "code",
   "execution_count": 40,
   "metadata": {},
   "outputs": [
    {
     "name": "stdout",
     "output_type": "stream",
     "text": [
      "+--------+--------------------+------------+----------+-----------+------------+--------------------+------------+------------+------+---+--------+----+-----------+------------+----------------+--------+-------+-------+--------------+--------------------+\n",
      "|order_id|                  id|        name|popularity|duration_ms|     artists|          id_artists|release_date|danceability|energy|key|loudness|mode|speechiness|acousticness|instrumentalness|liveness|valence|  tempo|time_signature|           timestamp|\n",
      "+--------+--------------------+------------+----------+-----------+------------+--------------------+------------+------------+------+---+--------+----+-----------+------------+----------------+--------+-------+-------+--------------+--------------------+\n",
      "|    3047|4efr1TvCzFIRxBdjy...|Son of a Gun|         1|   238946.0|Summer Flake|2oPPuIRXZ5gCKBtbt...|  2016-04-08|       0.301| 0.674|  1|  -8.784|   0|     0.0341|     0.00711|           0.799|  0.0981|  0.361|115.776|           4.0|2024-09-18 01:21:...|\n",
      "|    3048|0ATr1Z7lOjpY6kDiN...|     Jizzney|         0|   196480.0| A Giant Dog|0PL9vFj7i7uKg74Wp...|  2016-04-05|       0.419| 0.941|  9|  -5.686|   1|     0.0699|     1.19E-4|         1.58E-5|   0.122|  0.602|125.416|           4.0|2024-09-18 01:21:...|\n",
      "|    3049|30lDfg1I6ytj9LUz2...|   Chow Chow|         0|   122206.0|        Faye|4CchTOTnYs0THdrAq...|  2016-04-08|       0.444| 0.941|  4|  -5.015|   1|     0.0533|      0.0411|          0.0818|   0.103|  0.521|119.009|           4.0|2024-09-18 01:21:...|\n",
      "|    3050|2k7MQPXJxVwgFksCo...|       Bloom|        27|   243072.0|       Denny|3UMlYIStRQWK4F4oh...|  2016-04-01|        0.46| 0.595|  0|  -9.211|   0|     0.0504|     5.88E-4|         3.25E-4|   0.189|  0.541|154.041|           4.0|2024-09-18 01:21:...|\n",
      "|    3051|7BSROePF8jz3tVHba...|All Day Long|         0|   215386.0|   KAPPEKOFF|5ka9pTngQTNPr4oWt...|  2016-04-01|       0.651| 0.902|  5|  -6.379|   0|     0.0571|       0.132|         7.68E-4|   0.198|  0.556|112.399|           4.0|2024-09-18 01:21:...|\n",
      "+--------+--------------------+------------+----------+-----------+------------+--------------------+------------+------------+------+---+--------+----+-----------+------------+----------------+--------+-------+-------+--------------+--------------------+\n",
      "only showing top 5 rows\n",
      "\n"
     ]
    }
   ],
   "source": [
    "# Spark music stream\n",
    "spark_songs.show(5)"
   ]
  },
  {
   "cell_type": "code",
   "execution_count": 41,
   "metadata": {},
   "outputs": [],
   "source": [
    "# Drop the columns that are not needed\n",
    "spark_songs = spark_songs.drop('order_id', \n",
    "                               'mode', \n",
    "                               'release_date', \n",
    "                               'id_artists',\n",
    "                               'time_signature', \n",
    "                               'duration_ms',\n",
    "                               'timestamp')"
   ]
  },
  {
   "cell_type": "code",
   "execution_count": 42,
   "metadata": {},
   "outputs": [],
   "source": [
    "# Create a new column with the song's name and artist\n",
    "df_sp = spark.createDataFrame(df_random)"
   ]
  },
  {
   "cell_type": "code",
   "execution_count": 43,
   "metadata": {},
   "outputs": [],
   "source": [
    "# Concatenate songs from Spark streaming with Spotify music\n",
    "df = spark_songs.union(df_sp)"
   ]
  },
  {
   "cell_type": "code",
   "execution_count": 44,
   "metadata": {},
   "outputs": [
    {
     "name": "stdout",
     "output_type": "stream",
     "text": [
      "+--------------------+------------+----------+------------+------------+------+---+--------+-----------+------------+----------------+--------+-------+-------+\n",
      "|                  id|        name|popularity|     artists|danceability|energy|key|loudness|speechiness|acousticness|instrumentalness|liveness|valence|  tempo|\n",
      "+--------------------+------------+----------+------------+------------+------+---+--------+-----------+------------+----------------+--------+-------+-------+\n",
      "|4efr1TvCzFIRxBdjy...|Son of a Gun|         1|Summer Flake|       0.301| 0.674|  1|  -8.784|     0.0341|     0.00711|           0.799|  0.0981|  0.361|115.776|\n",
      "|0ATr1Z7lOjpY6kDiN...|     Jizzney|         0| A Giant Dog|       0.419| 0.941|  9|  -5.686|     0.0699|     1.19E-4|         1.58E-5|   0.122|  0.602|125.416|\n",
      "|30lDfg1I6ytj9LUz2...|   Chow Chow|         0|        Faye|       0.444| 0.941|  4|  -5.015|     0.0533|      0.0411|          0.0818|   0.103|  0.521|119.009|\n",
      "|2k7MQPXJxVwgFksCo...|       Bloom|        27|       Denny|        0.46| 0.595|  0|  -9.211|     0.0504|     5.88E-4|         3.25E-4|   0.189|  0.541|154.041|\n",
      "|7BSROePF8jz3tVHba...|All Day Long|         0|   KAPPEKOFF|       0.651| 0.902|  5|  -6.379|     0.0571|       0.132|         7.68E-4|   0.198|  0.556|112.399|\n",
      "+--------------------+------------+----------+------------+------------+------+---+--------+-----------+------------+----------------+--------+-------+-------+\n",
      "only showing top 5 rows\n",
      "\n"
     ]
    }
   ],
   "source": [
    "df.show(5)"
   ]
  },
  {
   "cell_type": "markdown",
   "metadata": {},
   "source": [
    "## Data Preprocessing"
   ]
  },
  {
   "cell_type": "code",
   "execution_count": 45,
   "metadata": {},
   "outputs": [],
   "source": [
    "# Prepare the VectorAssembler\n",
    "vetor = VectorAssembler(inputCols = ['danceability',\n",
    "                                     'energy',\n",
    "                                     'loudness',\n",
    "                                     'speechiness',\n",
    "                                     'acousticness',\n",
    "                                     'instrumentalness',\n",
    "                                     'liveness',\n",
    "                                     'valence',\n",
    "                                     'tempo'], \n",
    "                        outputCol = 'song_features')"
   ]
  },
  {
   "cell_type": "code",
   "execution_count": 46,
   "metadata": {},
   "outputs": [],
   "source": [
    "# Discard invalid values\n",
    "assembled = vetor.setHandleInvalid(\"skip\").transform(df)"
   ]
  },
  {
   "cell_type": "code",
   "execution_count": 47,
   "metadata": {},
   "outputs": [],
   "source": [
    "# Prepare the StandardScaler\n",
    "std = StandardScaler(inputCol = 'song_features', outputCol = 'standardized')"
   ]
  },
  {
   "cell_type": "code",
   "execution_count": 48,
   "metadata": {},
   "outputs": [],
   "source": [
    "# Train the standardizer\n",
    "scale = std.fit(assembled)"
   ]
  },
  {
   "cell_type": "code",
   "execution_count": 49,
   "metadata": {},
   "outputs": [],
   "source": [
    "# Dataframe with standardized data\n",
    "df = scale.transform(assembled)"
   ]
  },
  {
   "cell_type": "code",
   "execution_count": 50,
   "metadata": {},
   "outputs": [
    {
     "name": "stdout",
     "output_type": "stream",
     "text": [
      "+--------------------+------------+----------+------------+------------+------+---+--------+-----------+------------+----------------+--------+-------+-------+--------------------+--------------------+\n",
      "|                  id|        name|popularity|     artists|danceability|energy|key|loudness|speechiness|acousticness|instrumentalness|liveness|valence|  tempo|       song_features|        standardized|\n",
      "+--------------------+------------+----------+------------+------------+------+---+--------+-----------+------------+----------------+--------+-------+-------+--------------------+--------------------+\n",
      "|4efr1TvCzFIRxBdjy...|Son of a Gun|         1|Summer Flake|       0.301| 0.674|  1|  -8.784|     0.0341|     0.00711|           0.799|  0.0981|  0.361|115.776|[0.301,0.674,-8.7...|[1.49656377223971...|\n",
      "|0ATr1Z7lOjpY6kDiN...|     Jizzney|         0| A Giant Dog|       0.419| 0.941|  9|  -5.686|     0.0699|     1.19E-4|         1.58E-5|   0.122|  0.602|125.416|[0.419,0.941,-5.6...|[2.08325654673900...|\n",
      "|30lDfg1I6ytj9LUz2...|   Chow Chow|         0|        Faye|       0.444| 0.941|  4|  -5.015|     0.0533|      0.0411|          0.0818|   0.103|  0.521|119.009|[0.444,0.941,-5.0...|[2.20755586337021...|\n",
      "|2k7MQPXJxVwgFksCo...|       Bloom|        27|       Denny|        0.46| 0.595|  0|  -9.211|     0.0504|     5.88E-4|         3.25E-4|   0.189|  0.541|154.041|[0.46,0.595,-9.21...|[2.28710742601418...|\n",
      "|7BSROePF8jz3tVHba...|All Day Long|         0|   KAPPEKOFF|       0.651| 0.902|  5|  -6.379|     0.0571|       0.132|         7.68E-4|   0.198|  0.556|112.399|[0.651,0.902,-6.3...|[3.23675420507659...|\n",
      "+--------------------+------------+----------+------------+------------+------+---+--------+-----------+------------+----------------+--------+-------+-------+--------------------+--------------------+\n",
      "only showing top 5 rows\n",
      "\n"
     ]
    }
   ],
   "source": [
    "df.show(5)"
   ]
  },
  {
   "cell_type": "markdown",
   "metadata": {},
   "source": [
    "## Machine Learning with Unsupervised Learning"
   ]
  },
  {
   "cell_type": "code",
   "execution_count": 51,
   "metadata": {},
   "outputs": [],
   "source": [
    "# Create the model object\n",
    "objeto_KMeans = KMeans(featuresCol = 'standardized', k = 3)"
   ]
  },
  {
   "cell_type": "code",
   "execution_count": 52,
   "metadata": {},
   "outputs": [],
   "source": [
    "# Drop rows with null values\n",
    "df_clean = df.na.drop()\n",
    "\n",
    "# Train the model\n",
    "modelo_KMeans = objeto_KMeans.fit(df_clean)\n"
   ]
  },
  {
   "cell_type": "code",
   "execution_count": 53,
   "metadata": {},
   "outputs": [],
   "source": [
    "# Predictions of the model\n",
    "df_output = modelo_KMeans.transform(df)"
   ]
  },
  {
   "cell_type": "markdown",
   "metadata": {},
   "source": [
    "## Recommendation System"
   ]
  },
  {
   "cell_type": "code",
   "execution_count": 64,
   "metadata": {},
   "outputs": [],
   "source": [
    "# Class\n",
    "class RecoSystem():\n",
    "    \n",
    "    # Construtor\n",
    "    def __init__(self, data):\n",
    "        self.data_ = data\n",
    "    \n",
    "    # Receive the music name and the number of recommendations\n",
    "    def Recomm(self, music_name, amount = 1):\n",
    "        \n",
    "        # List for distances\n",
    "        distances = []\n",
    "        \n",
    "        # Select the music\n",
    "        song = self.data_[(self.data_.name.str.lower() == music_name.lower())].head(1).values[0]\n",
    "        res_dt = self.data_[self.data_.name.str.lower() != music_name.lower()]\n",
    "        \n",
    "        # Loop to calculate distances\n",
    "        for i_song in tqdm(res_dt.values):\n",
    "            \n",
    "            # Initialize the distance\n",
    "            distance = 0\n",
    "            \n",
    "            # Loop to calculate the distance\n",
    "            for col in np.arange(len(res_dt.columns)):\n",
    "                if not col in [0,1,2,14]:\n",
    "                    distance = distance + np.absolute(float(song[col]) - float(i_song[col]))\n",
    "            \n",
    "            # Add to the list of distances\n",
    "            distances.append(distance)\n",
    "        \n",
    "        res_dt['distance'] = distances\n",
    "        res_dt = res_dt.sort_values('distance')\n",
    "        \n",
    "        columns = ['id','name', \n",
    "                   'artists', \n",
    "                   'acousticness', \n",
    "                   'liveness', \n",
    "                   'instrumentalness', \n",
    "                   'energy', \n",
    "                   'danceability', \n",
    "                   'valence']\n",
    "        \n",
    "        return res_dt[columns][:amount]"
   ]
  },
  {
   "cell_type": "code",
   "execution_count": 65,
   "metadata": {},
   "outputs": [],
   "source": [
    "# Columns names\n",
    "datalabel = df_output.select('id',\n",
    "                             'name',\n",
    "                             'artists',\n",
    "                             'danceability',\n",
    "                             'energy',\n",
    "                             'key',\n",
    "                             'loudness',\n",
    "                             'speechiness',\n",
    "                             'acousticness',\n",
    "                             'instrumentalness',\n",
    "                             'liveness',\n",
    "                             'valence',\n",
    "                             'tempo',\n",
    "                             'prediction')"
   ]
  },
  {
   "cell_type": "code",
   "execution_count": 66,
   "metadata": {},
   "outputs": [],
   "source": [
    "# Dataset with the labels\n",
    "df_final = datalabel.toPandas()\n",
    "df_final.drop(df_final[df_final['artists'] == '0'].index, inplace = True)\n",
    "df_final.drop_duplicates(inplace = True)\n",
    "df_final.drop(df_final[df_final['danceability'] == 0.0000].index, inplace = True)\n",
    "df_final.drop(df_final[df_final['liveness'] == 0.000].index, inplace = True)\n",
    "df_final.drop(df_final[df_final['instrumentalness'] == 0.000000].index, inplace = True)\n",
    "df_final.drop(df_final[df_final['energy'] == 0.0000].index, inplace = True)\n",
    "df_final.drop(df_final[df_final['danceability'] == 0.000].index, inplace = True)\n",
    "df_final.drop(df_final[df_final['valence'] == 0.000].index, inplace = True)"
   ]
  },
  {
   "cell_type": "code",
   "execution_count": 67,
   "metadata": {},
   "outputs": [
    {
     "data": {
      "text/plain": [
       "(288, 14)"
      ]
     },
     "execution_count": 67,
     "metadata": {},
     "output_type": "execute_result"
    }
   ],
   "source": [
    "df_final.shape"
   ]
  },
  {
   "cell_type": "code",
   "execution_count": 68,
   "metadata": {},
   "outputs": [
    {
     "data": {
      "text/html": [
       "<div>\n",
       "<style scoped>\n",
       "    .dataframe tbody tr th:only-of-type {\n",
       "        vertical-align: middle;\n",
       "    }\n",
       "\n",
       "    .dataframe tbody tr th {\n",
       "        vertical-align: top;\n",
       "    }\n",
       "\n",
       "    .dataframe thead th {\n",
       "        text-align: right;\n",
       "    }\n",
       "</style>\n",
       "<table border=\"1\" class=\"dataframe\">\n",
       "  <thead>\n",
       "    <tr style=\"text-align: right;\">\n",
       "      <th></th>\n",
       "      <th>id</th>\n",
       "      <th>name</th>\n",
       "      <th>artists</th>\n",
       "      <th>danceability</th>\n",
       "      <th>energy</th>\n",
       "      <th>key</th>\n",
       "      <th>loudness</th>\n",
       "      <th>speechiness</th>\n",
       "      <th>acousticness</th>\n",
       "      <th>instrumentalness</th>\n",
       "      <th>liveness</th>\n",
       "      <th>valence</th>\n",
       "      <th>tempo</th>\n",
       "      <th>prediction</th>\n",
       "    </tr>\n",
       "  </thead>\n",
       "  <tbody>\n",
       "    <tr>\n",
       "      <th>28</th>\n",
       "      <td>0Z5v6Ng5AhScYxZuiiWEC7</td>\n",
       "      <td>Raindrops</td>\n",
       "      <td>APOGEE</td>\n",
       "      <td>0.510</td>\n",
       "      <td>0.791</td>\n",
       "      <td>5</td>\n",
       "      <td>-6.759</td>\n",
       "      <td>0.0395</td>\n",
       "      <td>0.000275</td>\n",
       "      <td>0.000037</td>\n",
       "      <td>0.1060</td>\n",
       "      <td>0.518</td>\n",
       "      <td>159.892</td>\n",
       "      <td>0</td>\n",
       "    </tr>\n",
       "    <tr>\n",
       "      <th>298</th>\n",
       "      <td>4N9ghytYf41jio4x3gWLAu</td>\n",
       "      <td>House</td>\n",
       "      <td>Nicky Blitz</td>\n",
       "      <td>0.504</td>\n",
       "      <td>0.783</td>\n",
       "      <td>4</td>\n",
       "      <td>-4.205</td>\n",
       "      <td>0.0544</td>\n",
       "      <td>0.004530</td>\n",
       "      <td>0.705000</td>\n",
       "      <td>0.3890</td>\n",
       "      <td>0.833</td>\n",
       "      <td>158.035</td>\n",
       "      <td>0</td>\n",
       "    </tr>\n",
       "    <tr>\n",
       "      <th>47</th>\n",
       "      <td>6lY7moXPj3FGJ5VscgsU54</td>\n",
       "      <td>Hippo + 47</td>\n",
       "      <td>ICHI</td>\n",
       "      <td>0.921</td>\n",
       "      <td>0.519</td>\n",
       "      <td>0</td>\n",
       "      <td>-11.135</td>\n",
       "      <td>0.4660</td>\n",
       "      <td>0.213000</td>\n",
       "      <td>0.025300</td>\n",
       "      <td>0.0946</td>\n",
       "      <td>0.725</td>\n",
       "      <td>98.960</td>\n",
       "      <td>1</td>\n",
       "    </tr>\n",
       "    <tr>\n",
       "      <th>102</th>\n",
       "      <td>5betBtffCTwfvW64m0iiXG</td>\n",
       "      <td>4AM</td>\n",
       "      <td>Povi</td>\n",
       "      <td>0.732</td>\n",
       "      <td>0.702</td>\n",
       "      <td>10</td>\n",
       "      <td>-4.461</td>\n",
       "      <td>0.0390</td>\n",
       "      <td>0.029200</td>\n",
       "      <td>0.000106</td>\n",
       "      <td>0.0906</td>\n",
       "      <td>0.550</td>\n",
       "      <td>123.033</td>\n",
       "      <td>0</td>\n",
       "    </tr>\n",
       "    <tr>\n",
       "      <th>314</th>\n",
       "      <td>2lNt62LH941Q5PmuU3XrQM</td>\n",
       "      <td>A Moment to Return</td>\n",
       "      <td>Why We Run</td>\n",
       "      <td>0.498</td>\n",
       "      <td>0.676</td>\n",
       "      <td>5</td>\n",
       "      <td>-8.599</td>\n",
       "      <td>0.0407</td>\n",
       "      <td>0.015200</td>\n",
       "      <td>0.154000</td>\n",
       "      <td>0.1670</td>\n",
       "      <td>0.482</td>\n",
       "      <td>143.234</td>\n",
       "      <td>0</td>\n",
       "    </tr>\n",
       "  </tbody>\n",
       "</table>\n",
       "</div>"
      ],
      "text/plain": [
       "                         id                name      artists  danceability  \\\n",
       "28   0Z5v6Ng5AhScYxZuiiWEC7           Raindrops       APOGEE         0.510   \n",
       "298  4N9ghytYf41jio4x3gWLAu               House  Nicky Blitz         0.504   \n",
       "47   6lY7moXPj3FGJ5VscgsU54          Hippo + 47         ICHI         0.921   \n",
       "102  5betBtffCTwfvW64m0iiXG                 4AM         Povi         0.732   \n",
       "314  2lNt62LH941Q5PmuU3XrQM  A Moment to Return   Why We Run         0.498   \n",
       "\n",
       "     energy key  loudness  speechiness  acousticness  instrumentalness  \\\n",
       "28    0.791   5    -6.759       0.0395      0.000275          0.000037   \n",
       "298   0.783   4    -4.205       0.0544      0.004530          0.705000   \n",
       "47    0.519   0   -11.135       0.4660      0.213000          0.025300   \n",
       "102   0.702  10    -4.461       0.0390      0.029200          0.000106   \n",
       "314   0.676   5    -8.599       0.0407      0.015200          0.154000   \n",
       "\n",
       "     liveness  valence    tempo  prediction  \n",
       "28     0.1060    0.518  159.892           0  \n",
       "298    0.3890    0.833  158.035           0  \n",
       "47     0.0946    0.725   98.960           1  \n",
       "102    0.0906    0.550  123.033           0  \n",
       "314    0.1670    0.482  143.234           0  "
      ]
     },
     "execution_count": 68,
     "metadata": {},
     "output_type": "execute_result"
    }
   ],
   "source": [
    "df_final.sample(5)"
   ]
  },
  {
   "cell_type": "code",
   "execution_count": 69,
   "metadata": {},
   "outputs": [],
   "source": [
    "# Create the object\n",
    "reco_obj = RecoSystem(df_final)"
   ]
  },
  {
   "cell_type": "code",
   "execution_count": 70,
   "metadata": {},
   "outputs": [],
   "source": [
    "music = df_random['name'].tolist()[0]"
   ]
  },
  {
   "cell_type": "code",
   "execution_count": 71,
   "metadata": {},
   "outputs": [
    {
     "name": "stdout",
     "output_type": "stream",
     "text": [
      "Say Goodbye\n"
     ]
    }
   ],
   "source": [
    "print(music)"
   ]
  },
  {
   "cell_type": "code",
   "execution_count": 72,
   "metadata": {},
   "outputs": [
    {
     "name": "stderr",
     "output_type": "stream",
     "text": [
      "100%|██████████| 287/287 [00:00<00:00, 43043.88it/s]\n"
     ]
    }
   ],
   "source": [
    "# Execute the recommendation\n",
    "recommendation = reco_obj.Recomm(music)\n"
   ]
  },
  {
   "cell_type": "code",
   "execution_count": 73,
   "metadata": {},
   "outputs": [],
   "source": [
    "# Extract the random music from the Spotify favorites list\n",
    "y = df_random[['id','name', \n",
    "                         'artists',  \n",
    "                         'acousticness', \n",
    "                         'liveness', \n",
    "                         'instrumentalness', \n",
    "                         'energy', \n",
    "                         'danceability', \n",
    "                         'valence']]"
   ]
  },
  {
   "cell_type": "code",
   "execution_count": 74,
   "metadata": {},
   "outputs": [],
   "source": [
    "# Concatenate the recommendation with the random music from the Spotify favorites list\n",
    "recommendation = pd.concat([recommendation, y])"
   ]
  },
  {
   "cell_type": "code",
   "execution_count": 75,
   "metadata": {},
   "outputs": [],
   "source": [
    "# Save the recommendation to disk\n",
    "recommendation.to_csv('output/recommendation.csv')"
   ]
  },
  {
   "cell_type": "code",
   "execution_count": 76,
   "metadata": {},
   "outputs": [],
   "source": [
    "# Upload the file from disk\n",
    "df_reco = (spark.read.format(\"csv\").options(header = \"true\").load(\"output/recommendation.csv\"))"
   ]
  },
  {
   "cell_type": "code",
   "execution_count": 77,
   "metadata": {},
   "outputs": [
    {
     "name": "stdout",
     "output_type": "stream",
     "text": [
      "+---+--------------------+-----------+---------------+------------+--------+----------------+------+------------+-------+\n",
      "|_c0|                  id|       name|        artists|acousticness|liveness|instrumentalness|energy|danceability|valence|\n",
      "+---+--------------------+-----------+---------------+------------+--------+----------------+------+------------+-------+\n",
      "|104|1veCEMe2GY4W8ECYE...|  Dixie Boy|Joseph Petersen|      0.0135|   0.162|          0.0254| 0.694|       0.199| 0.0832|\n",
      "| 26|5F7IJrXD6Fa3EmqoY...|Say Goodbye|    Chris Brown|     0.00167|  0.0784|             0.0| 0.502|         0.8|  0.388|\n",
      "+---+--------------------+-----------+---------------+------------+--------+----------------+------+------------+-------+\n",
      "\n"
     ]
    },
    {
     "name": "stderr",
     "output_type": "stream",
     "text": [
      "                                                                                \r"
     ]
    }
   ],
   "source": [
    "# Visualize the recommendation\n",
    "df_reco.show()"
   ]
  },
  {
   "cell_type": "code",
   "execution_count": null,
   "metadata": {},
   "outputs": [],
   "source": []
  }
 ],
 "metadata": {
  "kernelspec": {
   "display_name": "Python 3 (ipykernel)",
   "language": "python",
   "name": "python3"
  },
  "language_info": {
   "codemirror_mode": {
    "name": "ipython",
    "version": 3
   },
   "file_extension": ".py",
   "mimetype": "text/x-python",
   "name": "python",
   "nbconvert_exporter": "python",
   "pygments_lexer": "ipython3",
   "version": "3.9.20"
  }
 },
 "nbformat": 4,
 "nbformat_minor": 4
}
